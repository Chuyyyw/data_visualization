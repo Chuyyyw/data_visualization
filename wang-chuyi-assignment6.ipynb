{
 "cells": [
  {
   "cell_type": "code",
   "execution_count": 1,
   "metadata": {},
   "outputs": [],
   "source": [
    "import numpy as np\n",
    "import bqplot\n",
    "import ipywidgets\n",
    "import pandas as pd\n",
    "import matplotlib.colors as mpl_colors\n",
    "import datetime as dt\n",
    "%matplotlib inline"
   ]
  },
  {
   "cell_type": "markdown",
   "metadata": {},
   "source": [
    "## Write-up\n",
    "Before creating the dashboard, we need to firstly do data cleaning and preprocessing. Assuming the values in variables regarding to 'year' should be treated as invalid if less than 1000, the corresponding records will be removed from the data. There are originally 8862 rows in the \"building_inventory.csv\". After removing records with invalid values, there are 8544 rows left."
   ]
  },
  {
   "cell_type": "code",
   "execution_count": 2,
   "metadata": {},
   "outputs": [
    {
     "data": {
      "text/plain": [
       "(8862, 22)"
      ]
     },
     "execution_count": 2,
     "metadata": {},
     "output_type": "execute_result"
    }
   ],
   "source": [
    "#read in the building_inventory.csv\n",
    "df = pd.read_csv('/Users/cy/Documents/UIUC_MSIM/IS590DV/week06/building_inventory.csv', header = 0)\n",
    "df.shape"
   ]
  },
  {
   "cell_type": "code",
   "execution_count": 3,
   "metadata": {},
   "outputs": [
    {
     "data": {
      "text/plain": [
       "(8544, 22)"
      ]
     },
     "execution_count": 3,
     "metadata": {},
     "output_type": "execute_result"
    }
   ],
   "source": [
    "#remove the ourlier and missing values in year relevant variables\n",
    "years_not_missing = (df['Year Constructed'] > 1000) & (df['Year Acquired'] > 1000)\n",
    "\n",
    "#make a copy of the orginal read-in csv in order to add new columns to the data frame\n",
    "inventory = df[years_not_missing].copy()\n",
    "inventory.shape"
   ]
  },
  {
   "cell_type": "markdown",
   "metadata": {},
   "source": [
    "## Write-up\n",
    "Since the variables of interests are total square footage across unique and different combination of congressional district and governmental department (Agency Name) over acquired years, I would like to aggregate the data and sum the total square footage grouped by congressional district and governmental department (Agency Name) and acquired years. In order to get the sense of range of acquired year and the corresponding square footage, I also further group the data by unique acquired year.\n",
    "\n",
    "Since the Gridheat map method of bqplot need use the Matrix or cross tables of the variables of interests, we use the panda crosstab method to create a crosstab, whose row indexes are the values of congressional district, and columns are values of governmental department, and values in cells are the corresponding square footage acquired of a given combination of congressional district and governmental department."
   ]
  },
  {
   "cell_type": "code",
   "execution_count": 4,
   "metadata": {},
   "outputs": [
    {
     "data": {
      "text/html": [
       "<div>\n",
       "<style scoped>\n",
       "    .dataframe tbody tr th:only-of-type {\n",
       "        vertical-align: middle;\n",
       "    }\n",
       "\n",
       "    .dataframe tbody tr th {\n",
       "        vertical-align: top;\n",
       "    }\n",
       "\n",
       "    .dataframe thead th {\n",
       "        text-align: right;\n",
       "    }\n",
       "</style>\n",
       "<table border=\"1\" class=\"dataframe\">\n",
       "  <thead>\n",
       "    <tr style=\"text-align: right;\">\n",
       "      <th></th>\n",
       "      <th>Congressional Full Name</th>\n",
       "      <th>Agency Name</th>\n",
       "      <th>Year Acquired</th>\n",
       "      <th>Square Footage</th>\n",
       "    </tr>\n",
       "  </thead>\n",
       "  <tbody>\n",
       "    <tr>\n",
       "      <td>0</td>\n",
       "      <td>Adam Kinzinger</td>\n",
       "      <td>Appellate Court / Third District</td>\n",
       "      <td>1858</td>\n",
       "      <td>15000</td>\n",
       "    </tr>\n",
       "    <tr>\n",
       "      <td>1</td>\n",
       "      <td>Adam Kinzinger</td>\n",
       "      <td>Appellate Court / Third District</td>\n",
       "      <td>1860</td>\n",
       "      <td>3700</td>\n",
       "    </tr>\n",
       "    <tr>\n",
       "      <td>2</td>\n",
       "      <td>Adam Kinzinger</td>\n",
       "      <td>Department of Central Management Services</td>\n",
       "      <td>1955</td>\n",
       "      <td>17600</td>\n",
       "    </tr>\n",
       "    <tr>\n",
       "      <td>3</td>\n",
       "      <td>Adam Kinzinger</td>\n",
       "      <td>Department of Central Management Services</td>\n",
       "      <td>1957</td>\n",
       "      <td>10080</td>\n",
       "    </tr>\n",
       "    <tr>\n",
       "      <td>4</td>\n",
       "      <td>Adam Kinzinger</td>\n",
       "      <td>Department of Central Management Services</td>\n",
       "      <td>2000</td>\n",
       "      <td>16450</td>\n",
       "    </tr>\n",
       "    <tr>\n",
       "      <td>...</td>\n",
       "      <td>...</td>\n",
       "      <td>...</td>\n",
       "      <td>...</td>\n",
       "      <td>...</td>\n",
       "    </tr>\n",
       "    <tr>\n",
       "      <td>2426</td>\n",
       "      <td>Tammy Duckworth</td>\n",
       "      <td>Department of Transportation</td>\n",
       "      <td>2002</td>\n",
       "      <td>20664</td>\n",
       "    </tr>\n",
       "    <tr>\n",
       "      <td>2427</td>\n",
       "      <td>Tammy Duckworth</td>\n",
       "      <td>Department of Transportation</td>\n",
       "      <td>2003</td>\n",
       "      <td>150000</td>\n",
       "    </tr>\n",
       "    <tr>\n",
       "      <td>2428</td>\n",
       "      <td>Tammy Duckworth</td>\n",
       "      <td>Department of Transportation</td>\n",
       "      <td>2004</td>\n",
       "      <td>520</td>\n",
       "    </tr>\n",
       "    <tr>\n",
       "      <td>2429</td>\n",
       "      <td>Tammy Duckworth</td>\n",
       "      <td>Department of Transportation</td>\n",
       "      <td>2005</td>\n",
       "      <td>2880</td>\n",
       "    </tr>\n",
       "    <tr>\n",
       "      <td>2430</td>\n",
       "      <td>Tammy Duckworth</td>\n",
       "      <td>Department of Transportation</td>\n",
       "      <td>2016</td>\n",
       "      <td>3793</td>\n",
       "    </tr>\n",
       "  </tbody>\n",
       "</table>\n",
       "<p>2431 rows × 4 columns</p>\n",
       "</div>"
      ],
      "text/plain": [
       "     Congressional Full Name                                Agency Name  \\\n",
       "0             Adam Kinzinger           Appellate Court / Third District   \n",
       "1             Adam Kinzinger           Appellate Court / Third District   \n",
       "2             Adam Kinzinger  Department of Central Management Services   \n",
       "3             Adam Kinzinger  Department of Central Management Services   \n",
       "4             Adam Kinzinger  Department of Central Management Services   \n",
       "...                      ...                                        ...   \n",
       "2426         Tammy Duckworth               Department of Transportation   \n",
       "2427         Tammy Duckworth               Department of Transportation   \n",
       "2428         Tammy Duckworth               Department of Transportation   \n",
       "2429         Tammy Duckworth               Department of Transportation   \n",
       "2430         Tammy Duckworth               Department of Transportation   \n",
       "\n",
       "      Year Acquired  Square Footage  \n",
       "0              1858           15000  \n",
       "1              1860            3700  \n",
       "2              1955           17600  \n",
       "3              1957           10080  \n",
       "4              2000           16450  \n",
       "...             ...             ...  \n",
       "2426           2002           20664  \n",
       "2427           2003          150000  \n",
       "2428           2004             520  \n",
       "2429           2005            2880  \n",
       "2430           2016            3793  \n",
       "\n",
       "[2431 rows x 4 columns]"
      ]
     },
     "execution_count": 4,
     "metadata": {},
     "output_type": "execute_result"
    }
   ],
   "source": [
    "df_sum1 = inventory.groupby(['Congressional Full Name', 'Agency Name','Year Acquired'])['Square Footage'].sum().reset_index()\n",
    "df_sum1"
   ]
  },
  {
   "cell_type": "code",
   "execution_count": 5,
   "metadata": {},
   "outputs": [
    {
     "data": {
      "text/html": [
       "<div>\n",
       "<style scoped>\n",
       "    .dataframe tbody tr th:only-of-type {\n",
       "        vertical-align: middle;\n",
       "    }\n",
       "\n",
       "    .dataframe tbody tr th {\n",
       "        vertical-align: top;\n",
       "    }\n",
       "\n",
       "    .dataframe thead th {\n",
       "        text-align: right;\n",
       "    }\n",
       "</style>\n",
       "<table border=\"1\" class=\"dataframe\">\n",
       "  <thead>\n",
       "    <tr style=\"text-align: right;\">\n",
       "      <th></th>\n",
       "      <th>Year Acquired</th>\n",
       "      <th>Square Footage</th>\n",
       "    </tr>\n",
       "  </thead>\n",
       "  <tbody>\n",
       "    <tr>\n",
       "      <td>0</td>\n",
       "      <td>1753</td>\n",
       "      <td>1200</td>\n",
       "    </tr>\n",
       "    <tr>\n",
       "      <td>1</td>\n",
       "      <td>1802</td>\n",
       "      <td>4440</td>\n",
       "    </tr>\n",
       "    <tr>\n",
       "      <td>2</td>\n",
       "      <td>1810</td>\n",
       "      <td>4033</td>\n",
       "    </tr>\n",
       "    <tr>\n",
       "      <td>3</td>\n",
       "      <td>1832</td>\n",
       "      <td>120000</td>\n",
       "    </tr>\n",
       "    <tr>\n",
       "      <td>4</td>\n",
       "      <td>1837</td>\n",
       "      <td>10302</td>\n",
       "    </tr>\n",
       "    <tr>\n",
       "      <td>...</td>\n",
       "      <td>...</td>\n",
       "      <td>...</td>\n",
       "    </tr>\n",
       "    <tr>\n",
       "      <td>166</td>\n",
       "      <td>2015</td>\n",
       "      <td>305093</td>\n",
       "    </tr>\n",
       "    <tr>\n",
       "      <td>167</td>\n",
       "      <td>2016</td>\n",
       "      <td>304839</td>\n",
       "    </tr>\n",
       "    <tr>\n",
       "      <td>168</td>\n",
       "      <td>2017</td>\n",
       "      <td>6720</td>\n",
       "    </tr>\n",
       "    <tr>\n",
       "      <td>169</td>\n",
       "      <td>2018</td>\n",
       "      <td>17160</td>\n",
       "    </tr>\n",
       "    <tr>\n",
       "      <td>170</td>\n",
       "      <td>2019</td>\n",
       "      <td>1520</td>\n",
       "    </tr>\n",
       "  </tbody>\n",
       "</table>\n",
       "<p>171 rows × 2 columns</p>\n",
       "</div>"
      ],
      "text/plain": [
       "     Year Acquired  Square Footage\n",
       "0             1753            1200\n",
       "1             1802            4440\n",
       "2             1810            4033\n",
       "3             1832          120000\n",
       "4             1837           10302\n",
       "..             ...             ...\n",
       "166           2015          305093\n",
       "167           2016          304839\n",
       "168           2017            6720\n",
       "169           2018           17160\n",
       "170           2019            1520\n",
       "\n",
       "[171 rows x 2 columns]"
      ]
     },
     "execution_count": 5,
     "metadata": {},
     "output_type": "execute_result"
    }
   ],
   "source": [
    "df_sum2 = inventory.groupby(['Year Acquired'])['Square Footage'].sum().reset_index()\n",
    "df_sum2"
   ]
  },
  {
   "cell_type": "code",
   "execution_count": 6,
   "metadata": {},
   "outputs": [],
   "source": [
    "con_dep_cross = pd.crosstab(index=df_sum1['Congressional Full Name'],\n",
    "                           columns = df_sum1['Agency Name'],\n",
    "                           values = df_sum1['Square Footage'],\n",
    "                           aggfunc='sum')\n",
    "con_dep_cross_array = con_dep_cross.to_numpy()\n",
    "con_dep_cross_array = np.nan_to_num(con_dep_cross)\n"
   ]
  },
  {
   "cell_type": "markdown",
   "metadata": {},
   "source": [
    "## Write-up\n",
    "Since we have the data prepared, now I start to create the dashboard. Basicallly there are 6 steps. \n",
    "\n",
    "The first step is to create a ipywidgets label, which is used to print out the value in square footage of selected combo. \n",
    "\n",
    "The second step is pre define the elements needed for the Gridheatmap figure. It includes three sub steps, that is setting up the scales, axies and marks. \n",
    "\n",
    "The third step is pre define the elements needed for the Line plot. It also includes three sub steps similar with the above.\n",
    "\n",
    "The fourth step is defining a function used to link the Gridheatmap and line plot together. And for each selected area, it has been limited to only 1 unit square, that is only one unique combination of congressional district and governmental department being able to be selected. And the right figure will show the corresponding trend over a static years range from 1750 to 2020.\n",
    "\n",
    "The fifth step is creating the 2 figures for the Gridheatmap and line plots, as well as setting up the layout style of those two figures, such as width. \n",
    "\n",
    "The last step is putting all above together and finalizing the dashboard through the Hbox and Vbox methods of ipywidgets. Among the two methods, Hbox is used to present the label square footage value of selected combination, and the Vbox is used to show the two figures. \n"
   ]
  },
  {
   "cell_type": "code",
   "execution_count": 7,
   "metadata": {},
   "outputs": [],
   "source": [
    "#1.Create Label\n",
    "mySelectedLabel = ipywidgets.Label()"
   ]
  },
  {
   "cell_type": "code",
   "execution_count": 8,
   "metadata": {},
   "outputs": [],
   "source": [
    "#2.Create Heatmap Elements\n",
    "\n",
    "##scales\n",
    "x_sc = bqplot.OrdinalScale()\n",
    "y_sc = bqplot.OrdinalScale()\n",
    "col_sc = bqplot.ColorScale(scheme = 'BuPu')\n",
    "\n",
    "##set up axis\n",
    "x_ax = bqplot.Axis(scale=x_sc, label='Governmental Department',tick_rotate = 90)\n",
    "y_ax = bqplot.Axis(scale=y_sc, label='Congressional District', \n",
    "                  orientation='vertical')\n",
    "c_ax = bqplot.ColorAxis(scale=col_sc, orientation='vertical', side='right')\n",
    "##mark\n",
    "heat_map = bqplot.GridHeatMap(color = con_dep_cross_array ,\n",
    "                             row = con_dep_cross.index.tolist(),\n",
    "                             column = con_dep_cross.columns.tolist(),\n",
    "                             scales={'color':col_sc, 'row':y_sc, 'column':x_sc},\n",
    "                             interactions = {'click':'select'},\n",
    "                             anchor_style={'fill':'red'})"
   ]
  },
  {
   "cell_type": "code",
   "execution_count": 9,
   "metadata": {},
   "outputs": [],
   "source": [
    "#3.Create Line Plot Elements\n",
    "\n",
    "##scales\n",
    "x_scl = bqplot.LinearScale(min=1750, max=2020)\n",
    "y_scl = bqplot.LinearScale()\n",
    "\n",
    "##axis\n",
    "ax_xcl = bqplot.Axis(label='Year Acquired', scale = x_scl, tick_rotate = 90)\n",
    "ax_ycl = bqplot.Axis(label='Square Footage', scale = y_scl,\n",
    "                    orientation = 'vertical', side='left')\n",
    "\n",
    "##marks\n",
    "line_plot = bqplot.Lines(x=df_sum2['Year Acquired'],\n",
    "                        y=df_sum2['Square Footage'],\n",
    "                        scales = {'x':x_scl, 'y':y_scl})\n"
   ]
  },
  {
   "cell_type": "code",
   "execution_count": 10,
   "metadata": {},
   "outputs": [],
   "source": [
    "#4.Linking Line Plot with Heatmap\n",
    "def get_data_value(change):\n",
    "    # to make sure only support single selections\n",
    "    if len(change['owner'].selected) == 1:\n",
    "        print(change['owner'].selected[0])\n",
    "        i,j = change['owner'].selected[0] #i:row_num, j:column_num\n",
    "        v= con_dep_cross_array[i,j]\n",
    "        #print(v)\n",
    "        cong_dist = con_dep_cross.index[i]\n",
    "        department = con_dep_cross.columns[j]\n",
    "                \n",
    "        mySelectedLabel.value = 'Total Square Foot of '+ department +' in ' + cong_dist + ' = ' + str(v)\n",
    "        \n",
    "        region_mask = ((df_sum1['Congressional Full Name'] == cong_dist) & \n",
    "                       (df_sum1['Agency Name'] == department))\n",
    "        line_plot.x = df_sum1['Year Acquired'][region_mask]\n",
    "        line_plot.y = df_sum1['Square Footage'][region_mask]\n",
    "        \n",
    "heat_map.observe(get_data_value, 'selected')"
   ]
  },
  {
   "cell_type": "code",
   "execution_count": 11,
   "metadata": {},
   "outputs": [],
   "source": [
    "#5.Create figs for each figures.\n",
    "fig_heatmap = bqplot.Figure(marks = [heat_map], axes=[c_ax, y_ax, x_ax])\n",
    "fig_year = bqplot.Figure(marks=[line_plot], axes=[ax_xcl, ax_ycl])\n",
    "fig_heatmap.layout.min_width = '600px'\n",
    "fig_year.layout.min_width = '400px'"
   ]
  },
  {
   "cell_type": "code",
   "execution_count": 12,
   "metadata": {},
   "outputs": [
    {
     "data": {
      "application/vnd.jupyter.widget-view+json": {
       "model_id": "cd7b60b0ee4c4134a30b8640bd2580e8",
       "version_major": 2,
       "version_minor": 0
      },
      "text/plain": [
       "VBox(children=(Label(value=''), HBox(children=(Figure(axes=[ColorAxis(orientation='vertical', scale=ColorScale…"
      ]
     },
     "metadata": {},
     "output_type": "display_data"
    },
    {
     "name": "stdout",
     "output_type": "stream",
     "text": [
      "[3 7]\n"
     ]
    }
   ],
   "source": [
    "#6.Put all together\n",
    "plots = ipywidgets.HBox([fig_heatmap, fig_year])\n",
    "myDashboard = ipywidgets.VBox ([mySelectedLabel, plots])\n",
    "myDashboard"
   ]
  }
 ],
 "metadata": {
  "kernelspec": {
   "display_name": "Python 3",
   "language": "python",
   "name": "python3"
  },
  "language_info": {
   "codemirror_mode": {
    "name": "ipython",
    "version": 3
   },
   "file_extension": ".py",
   "mimetype": "text/x-python",
   "name": "python",
   "nbconvert_exporter": "python",
   "pygments_lexer": "ipython3",
   "version": "3.7.3"
  }
 },
 "nbformat": 4,
 "nbformat_minor": 2
}
